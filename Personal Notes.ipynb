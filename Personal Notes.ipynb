{
 "cells": [
  {
   "cell_type": "markdown",
   "id": "c8b56ba9",
   "metadata": {},
   "source": [
    "## What is sleep score?\n",
    "[Sleep Score calculation method](https://support.google.com/fitbit/answer/14236513?hl=en#zippy=%2Cwhats-my-fitbit-sleep-score%2Chow-is-my-sleep-score-calculated-in-the-fitbit-app)\n"
   ]
  },
  {
   "cell_type": "markdown",
   "id": "d30205b1",
   "metadata": {},
   "source": [
    "## Finished - Cleaning Priorities\n",
    "* Dropping empty columns\n",
    "* Drop Sleep IDs\n",
    "* Removing time from timestamp, change \"timestamp\" to \"date\"\n",
    "* Remove rows before Gonzaga\n",
    "    * Drop everything before 2023-08-26"
   ]
  },
  {
   "cell_type": "markdown",
   "id": "8096c014",
   "metadata": {},
   "source": [
    "## API Data\n",
    "I'll use MeteoStat API to get weather data corresponding with my sleep data  \n",
    "Token stored in local apitoken.py \n"
   ]
  },
  {
   "cell_type": "markdown",
   "id": "89aea522",
   "metadata": {},
   "source": [
    "## Joining datasets\n",
    "* Set date column as index column\n",
    "* Inner join on date column"
   ]
  }
 ],
 "metadata": {
  "kernelspec": {
   "display_name": "base",
   "language": "python",
   "name": "python3"
  },
  "language_info": {
   "name": "python",
   "version": "3.12.7"
  }
 },
 "nbformat": 4,
 "nbformat_minor": 5
}
