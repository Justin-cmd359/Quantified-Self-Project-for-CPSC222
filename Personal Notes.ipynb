{
 "cells": [
  {
   "cell_type": "markdown",
   "id": "c8b56ba9",
   "metadata": {},
   "source": [
    "## What is sleep score?\n",
    "[Sleep Score calculation method](https://support.google.com/fitbit/answer/14236513?hl=en#zippy=%2Cwhats-my-fitbit-sleep-score%2Chow-is-my-sleep-score-calculated-in-the-fitbit-app)\n"
   ]
  },
  {
   "cell_type": "markdown",
   "id": "d30205b1",
   "metadata": {},
   "source": [
    "## Cleaning Priorities\n",
    "* Dropping empty columns\n",
    "* Drop Sleep IDs\n",
    "* Removing time from timestamp, change \"timestamp\" to \"date\""
   ]
  },
  {
   "cell_type": "markdown",
   "id": "8096c014",
   "metadata": {},
   "source": [
    "## API Data\n",
    "I'll use MeteoStat API to get weather data corresponding with my sleep data\n",
    "\n",
    "How should I \"store\" my token?\n"
   ]
  }
 ],
 "metadata": {
  "kernelspec": {
   "display_name": "base",
   "language": "python",
   "name": "python3"
  },
  "language_info": {
   "name": "python",
   "version": "3.12.7"
  }
 },
 "nbformat": 4,
 "nbformat_minor": 5
}
