{
 "cells": [
  {
   "cell_type": "markdown",
   "id": "e53f96e2",
   "metadata": {},
   "source": [
    "# Sleep Data Analysis\n",
    "Justin Yi  \n",
    "4/22/25  \n",
    "CPSC 222\n",
    "Spring 2025\n",
    "Description:  \n",
    "This Jupyter Notebook explores, interprets, and learns my sleep data."
   ]
  },
  {
   "cell_type": "code",
   "execution_count": 75,
   "id": "77606685",
   "metadata": {},
   "outputs": [
    {
     "data": {
      "text/plain": [
       "<module 'utils' from 'd:\\\\School\\\\Spring 2025\\\\Intro to Data Science\\\\Data Assignments\\\\Project\\\\utils.py'>"
      ]
     },
     "execution_count": 75,
     "metadata": {},
     "output_type": "execute_result"
    }
   ],
   "source": [
    "import utils\n",
    "import pandas as pd\n",
    "import numpy as np\n",
    "import scipy.stats as stats\n",
    "import matplotlib.pyplot as plt\n",
    "import importlib \n",
    "\n",
    "importlib.reload(utils)"
   ]
  },
  {
   "cell_type": "markdown",
   "id": "7053f59d",
   "metadata": {},
   "source": [
    "## Overview\n",
    "The two datasets we'll be combining and analyzing are my personal sleep data from my time here at GU, collected by Fitbit, and weather data of Spokane courtesty of MeteoStat API. This Notebook will walk you through my cleaning, EDA, and statistical analysis. Let's take a look at what we have:"
   ]
  },
  {
   "cell_type": "code",
   "execution_count": 76,
   "id": "e363d26e",
   "metadata": {},
   "outputs": [
    {
     "name": "stdout",
     "output_type": "stream",
     "text": [
      "   sleep_log_entry_id             timestamp  overall_score  composition_score  \\\n",
      "0         48988871406  2025-04-16T06:58:30Z             76                NaN   \n",
      "1         48977379538  2025-04-15T08:18:30Z             71                NaN   \n",
      "2         48967692815  2025-04-14T09:27:30Z             84                NaN   \n",
      "3         48959170544  2025-04-13T07:16:00Z             73                NaN   \n",
      "4         48948016693  2025-04-12T05:12:30Z             70                NaN   \n",
      "\n",
      "   revitalization_score  duration_score  deep_sleep_in_minutes  \\\n",
      "0                    76             NaN                   55.0   \n",
      "1                    71             NaN                   59.0   \n",
      "2                    84             NaN                  122.0   \n",
      "3                    73             NaN                   79.0   \n",
      "4                    70             NaN                   14.0   \n",
      "\n",
      "   resting_heart_rate  restlessness  \n",
      "0                  64      0.083240  \n",
      "1                  65      0.093929  \n",
      "2                  65      0.105641  \n",
      "3                  65      0.063325  \n",
      "4                  63      0.043053  \n",
      "                  date  tavg  tmin  tmax   prcp  snow   wdir  wspd  wpgt  \\\n",
      "0  2023-08-26 00:00:00  71.1  53.1  91.9  0.000  None   27.0   3.0  None   \n",
      "1  2023-08-27 00:00:00  77.2  63.0  95.0  0.000  None    8.0   2.5  None   \n",
      "2  2023-08-28 00:00:00  76.5  57.9  96.1  0.000  None  356.0   1.9  None   \n",
      "3  2023-08-29 00:00:00  66.9  60.1  75.9  0.110  None   13.0   4.5  None   \n",
      "4  2023-08-30 00:00:00  58.5  55.9  61.0  0.591  None  229.0   7.6  None   \n",
      "\n",
      "     pres  tsun  \n",
      "0  1017.7  None  \n",
      "1  1016.9  None  \n",
      "2  1015.4  None  \n",
      "3  1011.6  None  \n",
      "4  1014.3  None  \n"
     ]
    }
   ],
   "source": [
    "sleep_df = pd.read_csv(\"sleep_score.csv\")\n",
    "weather_df = utils.get_spokane_weather_df()\n",
    "weather_df.to_csv(\"initial_spokane_weather.csv\")\n",
    "print(sleep_df.head())\n",
    "print(weather_df.head())"
   ]
  },
  {
   "cell_type": "markdown",
   "id": "c70adaa7",
   "metadata": {},
   "source": [
    "## Cleaning\n",
    "I'd like to join both DataFrames on their date columns to get a bigger, combined dataset, but there's some cleaning we need to do:\n",
    "1. For sleep_df:\n",
    "    * We can drop the sleep_log_entry_id column because they serve no predictive purpose and the dates already serve as unique keys\n",
    "    * We should drop instances that occur before 2023-08-26 (my first move-in day)\n",
    "    * We should remove the timestamps, keep the dates, and rename the \"timestamp\" column to \"date\"\n",
    "    * For classification purposes, let's decode my overall sleep scores based on [Fitbit's calculation method](https://support.google.com/fitbit/answer/14236513?hl=en#zippy=%2Cwhats-my-fitbit-sleep-score%2Chow-is-my-sleep-score-calculated-in-the-fitbit-app)\n",
    "        * 90-100: Excellent\n",
    "        * 80-89: Good\n",
    "        * 60-79: Fair\n",
    "        * <60: Poor\n",
    "1. For weather_df:\n",
    "    * We can drop the \"00:00:00\" from every date because it's constant and we want consistency with sleep_df's date column\n",
    "1. We should also drop completely empty columns in both DataFrames because interpolation is literally impossible with them and they serve no purpose\n",
    "1. We should also interpolate missing values for both DataFrames if possible"
   ]
  },
  {
   "cell_type": "code",
   "execution_count": 77,
   "id": "f4277d02",
   "metadata": {},
   "outputs": [
    {
     "name": "stderr",
     "output_type": "stream",
     "text": [
      "d:\\School\\Spring 2025\\Intro to Data Science\\Data Assignments\\Project\\utils.py:39: FutureWarning: DataFrame.interpolate with object dtype is deprecated and will raise in a future version. Call obj.infer_objects(copy=False) before interpolating instead.\n",
      "  df.interpolate(method=\"linear\", inplace=True)\n"
     ]
    },
    {
     "ename": "TypeError",
     "evalue": "'>=' not supported between instances of 'str' and 'int'",
     "output_type": "error",
     "traceback": [
      "\u001b[1;31m---------------------------------------------------------------------------\u001b[0m",
      "\u001b[1;31mTypeError\u001b[0m                                 Traceback (most recent call last)",
      "Cell \u001b[1;32mIn[77], line 14\u001b[0m\n\u001b[0;32m     12\u001b[0m sleep_df \u001b[38;5;241m=\u001b[39m utils\u001b[38;5;241m.\u001b[39mfill_missing_values(sleep_df)\n\u001b[0;32m     13\u001b[0m \u001b[38;5;66;03m#6 Decode overall sleep score\u001b[39;00m\n\u001b[1;32m---> 14\u001b[0m sleep_df \u001b[38;5;241m=\u001b[39m utils\u001b[38;5;241m.\u001b[39mdecode_sleep_scores(sleep_df)\n\u001b[0;32m     16\u001b[0m sleep_df\u001b[38;5;241m.\u001b[39mto_csv(\u001b[38;5;124m\"\u001b[39m\u001b[38;5;124mcleaned_sleep_score.csv\u001b[39m\u001b[38;5;124m\"\u001b[39m)\n",
      "File \u001b[1;32md:\\School\\Spring 2025\\Intro to Data Science\\Data Assignments\\Project\\utils.py:94\u001b[0m, in \u001b[0;36mdecode_sleep_scores\u001b[1;34m(df)\u001b[0m\n\u001b[0;32m      0\u001b[0m <Error retrieving source code with stack_data see ipython/ipython#13598>\n",
      "File \u001b[1;32mc:\\Users\\mhomy\\anaconda3\\Lib\\site-packages\\pandas\\core\\series.py:5638\u001b[0m, in \u001b[0;36mSeries.between\u001b[1;34m(self, left, right, inclusive)\u001b[0m\n\u001b[0;32m   5570\u001b[0m \u001b[38;5;250m\u001b[39m\u001b[38;5;124;03m\"\"\"\u001b[39;00m\n\u001b[0;32m   5571\u001b[0m \u001b[38;5;124;03mReturn boolean Series equivalent to left <= series <= right.\u001b[39;00m\n\u001b[0;32m   5572\u001b[0m \n\u001b[1;32m   (...)\u001b[0m\n\u001b[0;32m   5635\u001b[0m \u001b[38;5;124;03mdtype: bool\u001b[39;00m\n\u001b[0;32m   5636\u001b[0m \u001b[38;5;124;03m\"\"\"\u001b[39;00m\n\u001b[0;32m   5637\u001b[0m \u001b[38;5;28;01mif\u001b[39;00m inclusive \u001b[38;5;241m==\u001b[39m \u001b[38;5;124m\"\u001b[39m\u001b[38;5;124mboth\u001b[39m\u001b[38;5;124m\"\u001b[39m:\n\u001b[1;32m-> 5638\u001b[0m     lmask \u001b[38;5;241m=\u001b[39m \u001b[38;5;28mself\u001b[39m \u001b[38;5;241m>\u001b[39m\u001b[38;5;241m=\u001b[39m left\n\u001b[0;32m   5639\u001b[0m     rmask \u001b[38;5;241m=\u001b[39m \u001b[38;5;28mself\u001b[39m \u001b[38;5;241m<\u001b[39m\u001b[38;5;241m=\u001b[39m right\n\u001b[0;32m   5640\u001b[0m \u001b[38;5;28;01melif\u001b[39;00m inclusive \u001b[38;5;241m==\u001b[39m \u001b[38;5;124m\"\u001b[39m\u001b[38;5;124mleft\u001b[39m\u001b[38;5;124m\"\u001b[39m:\n",
      "File \u001b[1;32mc:\\Users\\mhomy\\anaconda3\\Lib\\site-packages\\pandas\\core\\ops\\common.py:76\u001b[0m, in \u001b[0;36m_unpack_zerodim_and_defer.<locals>.new_method\u001b[1;34m(self, other)\u001b[0m\n\u001b[0;32m     72\u001b[0m             \u001b[38;5;28;01mreturn\u001b[39;00m \u001b[38;5;28mNotImplemented\u001b[39m\n\u001b[0;32m     74\u001b[0m other \u001b[38;5;241m=\u001b[39m item_from_zerodim(other)\n\u001b[1;32m---> 76\u001b[0m \u001b[38;5;28;01mreturn\u001b[39;00m method(\u001b[38;5;28mself\u001b[39m, other)\n",
      "File \u001b[1;32mc:\\Users\\mhomy\\anaconda3\\Lib\\site-packages\\pandas\\core\\arraylike.py:60\u001b[0m, in \u001b[0;36mOpsMixin.__ge__\u001b[1;34m(self, other)\u001b[0m\n\u001b[0;32m     58\u001b[0m \u001b[38;5;129m@unpack_zerodim_and_defer\u001b[39m(\u001b[38;5;124m\"\u001b[39m\u001b[38;5;124m__ge__\u001b[39m\u001b[38;5;124m\"\u001b[39m)\n\u001b[0;32m     59\u001b[0m \u001b[38;5;28;01mdef\u001b[39;00m \u001b[38;5;21m__ge__\u001b[39m(\u001b[38;5;28mself\u001b[39m, other):\n\u001b[1;32m---> 60\u001b[0m     \u001b[38;5;28;01mreturn\u001b[39;00m \u001b[38;5;28mself\u001b[39m\u001b[38;5;241m.\u001b[39m_cmp_method(other, operator\u001b[38;5;241m.\u001b[39mge)\n",
      "File \u001b[1;32mc:\\Users\\mhomy\\anaconda3\\Lib\\site-packages\\pandas\\core\\series.py:6119\u001b[0m, in \u001b[0;36mSeries._cmp_method\u001b[1;34m(self, other, op)\u001b[0m\n\u001b[0;32m   6116\u001b[0m lvalues \u001b[38;5;241m=\u001b[39m \u001b[38;5;28mself\u001b[39m\u001b[38;5;241m.\u001b[39m_values\n\u001b[0;32m   6117\u001b[0m rvalues \u001b[38;5;241m=\u001b[39m extract_array(other, extract_numpy\u001b[38;5;241m=\u001b[39m\u001b[38;5;28;01mTrue\u001b[39;00m, extract_range\u001b[38;5;241m=\u001b[39m\u001b[38;5;28;01mTrue\u001b[39;00m)\n\u001b[1;32m-> 6119\u001b[0m res_values \u001b[38;5;241m=\u001b[39m ops\u001b[38;5;241m.\u001b[39mcomparison_op(lvalues, rvalues, op)\n\u001b[0;32m   6121\u001b[0m \u001b[38;5;28;01mreturn\u001b[39;00m \u001b[38;5;28mself\u001b[39m\u001b[38;5;241m.\u001b[39m_construct_result(res_values, name\u001b[38;5;241m=\u001b[39mres_name)\n",
      "File \u001b[1;32mc:\\Users\\mhomy\\anaconda3\\Lib\\site-packages\\pandas\\core\\ops\\array_ops.py:344\u001b[0m, in \u001b[0;36mcomparison_op\u001b[1;34m(left, right, op)\u001b[0m\n\u001b[0;32m    341\u001b[0m     \u001b[38;5;28;01mreturn\u001b[39;00m invalid_comparison(lvalues, rvalues, op)\n\u001b[0;32m    343\u001b[0m \u001b[38;5;28;01melif\u001b[39;00m lvalues\u001b[38;5;241m.\u001b[39mdtype \u001b[38;5;241m==\u001b[39m \u001b[38;5;28mobject\u001b[39m \u001b[38;5;129;01mor\u001b[39;00m \u001b[38;5;28misinstance\u001b[39m(rvalues, \u001b[38;5;28mstr\u001b[39m):\n\u001b[1;32m--> 344\u001b[0m     res_values \u001b[38;5;241m=\u001b[39m comp_method_OBJECT_ARRAY(op, lvalues, rvalues)\n\u001b[0;32m    346\u001b[0m \u001b[38;5;28;01melse\u001b[39;00m:\n\u001b[0;32m    347\u001b[0m     res_values \u001b[38;5;241m=\u001b[39m _na_arithmetic_op(lvalues, rvalues, op, is_cmp\u001b[38;5;241m=\u001b[39m\u001b[38;5;28;01mTrue\u001b[39;00m)\n",
      "File \u001b[1;32mc:\\Users\\mhomy\\anaconda3\\Lib\\site-packages\\pandas\\core\\ops\\array_ops.py:129\u001b[0m, in \u001b[0;36mcomp_method_OBJECT_ARRAY\u001b[1;34m(op, x, y)\u001b[0m\n\u001b[0;32m    127\u001b[0m     result \u001b[38;5;241m=\u001b[39m libops\u001b[38;5;241m.\u001b[39mvec_compare(x\u001b[38;5;241m.\u001b[39mravel(), y\u001b[38;5;241m.\u001b[39mravel(), op)\n\u001b[0;32m    128\u001b[0m \u001b[38;5;28;01melse\u001b[39;00m:\n\u001b[1;32m--> 129\u001b[0m     result \u001b[38;5;241m=\u001b[39m libops\u001b[38;5;241m.\u001b[39mscalar_compare(x\u001b[38;5;241m.\u001b[39mravel(), y, op)\n\u001b[0;32m    130\u001b[0m \u001b[38;5;28;01mreturn\u001b[39;00m result\u001b[38;5;241m.\u001b[39mreshape(x\u001b[38;5;241m.\u001b[39mshape)\n",
      "File \u001b[1;32mops.pyx:107\u001b[0m, in \u001b[0;36mpandas._libs.ops.scalar_compare\u001b[1;34m()\u001b[0m\n",
      "\u001b[1;31mTypeError\u001b[0m: '>=' not supported between instances of 'str' and 'int'"
     ]
    }
   ],
   "source": [
    "# Cleaning sleep_df\n",
    "#1 Dropping ID column\n",
    "sleep_df = utils.drop_column(sleep_df, \"sleep_log_entry_id\")\n",
    "#2 Drop undesired rows\n",
    "sleep_df = utils.drop_rows_by_starting_index(sleep_df, 518, 743)\n",
    "#3 Clean timestamps\n",
    "sleep_df = utils.remove_string_ends(sleep_df, \"timestamp\", 10)\n",
    "sleep_df.rename(columns={\"timestamp\": \"date\"}, inplace=True)\n",
    "#4 Remove the empty columns\n",
    "sleep_df = utils.drop_empty_columns(sleep_df)\n",
    "#5 Address missing value on 2025-03-08; we'll interpolate\n",
    "sleep_df = utils.fill_missing_values(sleep_df)\n",
    "#6 Decode overall sleep score\n",
    "sleep_df = utils.decode_sleep_scores(sleep_df)\n",
    "\n",
    "sleep_df.to_csv(\"cleaned_sleep_score.csv\")"
   ]
  },
  {
   "cell_type": "code",
   "execution_count": null,
   "id": "3b84c991",
   "metadata": {},
   "outputs": [
    {
     "name": "stderr",
     "output_type": "stream",
     "text": [
      "d:\\School\\Spring 2025\\Intro to Data Science\\Data Assignments\\Project\\utils.py:39: FutureWarning: DataFrame.interpolate with object dtype is deprecated and will raise in a future version. Call obj.infer_objects(copy=False) before interpolating instead.\n",
      "  df.interpolate(method=\"linear\", inplace=True)\n"
     ]
    }
   ],
   "source": [
    "# Cleaning weather \n",
    "#1 Clean the date column\n",
    "weather_df = utils.remove_string_ends(weather_df, \"date\", 10)\n",
    "#2 Remove the empty columns\n",
    "weather_df = utils.drop_empty_columns(weather_df)\n",
    "#3 Fill empty data\n",
    "weather_df = utils.fill_missing_values(weather_df)\n",
    "\n",
    "weather_df.to_csv(\"cleaned_spokane_weather.csv\")"
   ]
  },
  {
   "cell_type": "code",
   "execution_count": null,
   "id": "8097d93f",
   "metadata": {},
   "outputs": [],
   "source": [
    "# Joining both datasets\n",
    "merged_df = sleep_df.merge(weather_df, on=[\"date\"], how=\"inner\")\n",
    "merged_df.set_index(\"date\", inplace=True)\n",
    "merged_df.to_csv(\"merged_df.csv\")"
   ]
  },
  {
   "cell_type": "code",
   "execution_count": null,
   "id": "ff4be189",
   "metadata": {},
   "outputs": [],
   "source": [
    "## Exploratory Data Analysis\n"
   ]
  }
 ],
 "metadata": {
  "kernelspec": {
   "display_name": "base",
   "language": "python",
   "name": "python3"
  },
  "language_info": {
   "codemirror_mode": {
    "name": "ipython",
    "version": 3
   },
   "file_extension": ".py",
   "mimetype": "text/x-python",
   "name": "python",
   "nbconvert_exporter": "python",
   "pygments_lexer": "ipython3",
   "version": "3.12.7"
  }
 },
 "nbformat": 4,
 "nbformat_minor": 5
}
