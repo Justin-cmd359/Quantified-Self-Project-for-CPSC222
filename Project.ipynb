{
 "cells": [
  {
   "cell_type": "markdown",
   "id": "e53f96e2",
   "metadata": {},
   "source": [
    "# Sleep Data Analysis\n",
    "Justin Yi  \n",
    "4/21/25  \n",
    "CPSC 222\n",
    "Spring 2025\n",
    "Description:  \n",
    "This Jupyter Notebook explores, interprets, and learns my sleep data."
   ]
  },
  {
   "cell_type": "code",
   "execution_count": 20,
   "id": "77606685",
   "metadata": {},
   "outputs": [
    {
     "data": {
      "text/plain": [
       "<module 'utils' from 'd:\\\\School\\\\Spring 2025\\\\Intro to Data Science\\\\Data Assignments\\\\Project\\\\utils.py'>"
      ]
     },
     "execution_count": 20,
     "metadata": {},
     "output_type": "execute_result"
    }
   ],
   "source": [
    "import utils\n",
    "import pandas as pd\n",
    "import numpy as np\n",
    "import requests\n",
    "import scipy.stats as stats\n",
    "import matplotlib.pyplot as plt\n",
    "import importlib \n",
    "\n",
    "importlib.reload(utils)"
   ]
  },
  {
   "cell_type": "markdown",
   "id": "7053f59d",
   "metadata": {},
   "source": [
    "## Overview\n",
    "The two datasets we'll be combining and analyzing are my personal sleep data from my time here at GU, collected by Fitbit, and weather data of Spokane courtesty of MeteoStat API. This Notebook will walk you through my cleaning, EDA, and statistical analysis. Let's take a look at what we have:"
   ]
  },
  {
   "cell_type": "code",
   "execution_count": 23,
   "id": "e363d26e",
   "metadata": {},
   "outputs": [
    {
     "name": "stdout",
     "output_type": "stream",
     "text": [
      "   sleep_log_entry_id             timestamp  ...  resting_heart_rate  restlessness\n",
      "0         48988871406  2025-04-16T06:58:30Z  ...                  64      0.083240\n",
      "1         48977379538  2025-04-15T08:18:30Z  ...                  65      0.093929\n",
      "2         48967692815  2025-04-14T09:27:30Z  ...                  65      0.105641\n",
      "3         48959170544  2025-04-13T07:16:00Z  ...                  65      0.063325\n",
      "4         48948016693  2025-04-12T05:12:30Z  ...                  63      0.043053\n",
      "\n",
      "[5 rows x 9 columns]\n",
      "                  date  tavg  tmin  tmax  ...  wspd  wpgt    pres  tsun\n",
      "0  2023-08-26 00:00:00  71.1  53.1  91.9  ...   3.0  None  1017.7  None\n",
      "1  2023-08-27 00:00:00  77.2  63.0  95.0  ...   2.5  None  1016.9  None\n",
      "2  2023-08-28 00:00:00  76.5  57.9  96.1  ...   1.9  None  1015.4  None\n",
      "3  2023-08-29 00:00:00  66.9  60.1  75.9  ...   4.5  None  1011.6  None\n",
      "4  2023-08-30 00:00:00  58.5  55.9  61.0  ...   7.6  None  1014.2  None\n",
      "\n",
      "[5 rows x 11 columns]\n"
     ]
    }
   ],
   "source": [
    "sleep_df = pd.read_csv(\"sleep_score.csv\")\n",
    "weather_df = utils.get_spokane_weather_df()\n",
    "weather_df.to_csv(\"initial_spokane_weather.csv\")\n",
    "print(sleep_df.head())\n",
    "print(weather_df.head())"
   ]
  },
  {
   "cell_type": "markdown",
   "id": "c70adaa7",
   "metadata": {},
   "source": [
    "We "
   ]
  }
 ],
 "metadata": {
  "kernelspec": {
   "display_name": "base",
   "language": "python",
   "name": "python3"
  },
  "language_info": {
   "codemirror_mode": {
    "name": "ipython",
    "version": 3
   },
   "file_extension": ".py",
   "mimetype": "text/x-python",
   "name": "python",
   "nbconvert_exporter": "python",
   "pygments_lexer": "ipython3",
   "version": "3.12.7"
  }
 },
 "nbformat": 4,
 "nbformat_minor": 5
}
