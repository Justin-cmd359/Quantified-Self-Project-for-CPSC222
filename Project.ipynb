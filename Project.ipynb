{
 "cells": [
  {
   "cell_type": "markdown",
   "id": "e53f96e2",
   "metadata": {},
   "source": [
    "# Sleep Data Analysis\n",
    "Justin Yi  \n",
    "4/21/25  \n",
    "CPSC 222\n",
    "Spring 2025\n",
    "Description:  \n",
    "This Jupyter Notebook explores, interprets, and learns my sleep data."
   ]
  },
  {
   "cell_type": "markdown",
   "id": "7053f59d",
   "metadata": {},
   "source": [
    "## Overview\n",
    "The two datasets we'll be combining and analyzing are my personal sleep data, collected by Fitbit, and weather data courtesty of MeteoStat API. "
   ]
  }
 ],
 "metadata": {
  "language_info": {
   "name": "python"
  }
 },
 "nbformat": 4,
 "nbformat_minor": 5
}
